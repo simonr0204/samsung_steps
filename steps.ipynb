{
 "cells": [
  {
   "cell_type": "markdown",
   "metadata": {
    "_uuid": "8f998c29f53cc2b203d0a31308dd4fc68d16dafb"
   },
   "source": [
    "## Analysis of Samsung Health Step Data\n",
    "\n",
    "This notebook is a quick analysis of my daily steps over the last two years as recorded by the Samsung Health app on my Android phone\n",
    "\n",
    "If you want to do the same, this file is obtained from the Samsung Health App  \n",
    "Go to Options (top right) -> Settings -> Download Personal Data -> Download  \n",
    "You should see a file in the folder downloaded that looks like: 'com.samsung.shealth.step_daily_trend.YYYYMMDDHHMM.csv'  \n",
    "There's lots other stuff in there, depending which features of the app you use.\n"
   ]
  },
  {
   "cell_type": "markdown",
   "metadata": {
    "_uuid": "b7089d93330c95080e678adeb7966563425e50e9"
   },
   "source": [
    "First let's import the things we'll be needing:"
   ]
  },
  {
   "cell_type": "code",
   "execution_count": 1,
   "metadata": {
    "_uuid": "7628ff29474a036b8a51654a33d3b451b95610d4"
   },
   "outputs": [],
   "source": [
    "import pandas as pd\n",
    "import numpy as np\n",
    "from matplotlib import pyplot as plt\n",
    "import seaborn as sns\n",
    "%matplotlib inline\n",
    "import warnings\n",
    "warnings.simplefilter(action='ignore', category=FutureWarning) #Gets rid of the seaborn 'FutureWarning'\n",
    "import cufflinks as cf"
   ]
  },
  {
   "cell_type": "markdown",
   "metadata": {
    "_uuid": "1e99b1c776d44d353a8a6730d2b3909d03495120"
   },
   "source": [
    "## Importing and Cleaning the Data"
   ]
  },
  {
   "cell_type": "markdown",
   "metadata": {
    "_uuid": "28cd38ba4c912874b16271e0c430e376206199a8"
   },
   "source": [
    "Table starts on 2nd row so use header=1"
   ]
  },
  {
   "cell_type": "code",
   "execution_count": 2,
   "metadata": {
    "_uuid": "4c8087ccb104d7dd33386495831ced0d7a2793b7"
   },
   "outputs": [
    {
     "data": {
      "text/html": [
       "<div>\n",
       "<style scoped>\n",
       "    .dataframe tbody tr th:only-of-type {\n",
       "        vertical-align: middle;\n",
       "    }\n",
       "\n",
       "    .dataframe tbody tr th {\n",
       "        vertical-align: top;\n",
       "    }\n",
       "\n",
       "    .dataframe thead th {\n",
       "        text-align: right;\n",
       "    }\n",
       "</style>\n",
       "<table border=\"1\" class=\"dataframe\">\n",
       "  <thead>\n",
       "    <tr style=\"text-align: right;\">\n",
       "      <th></th>\n",
       "      <th>source_pkg_name</th>\n",
       "      <th>binning_data</th>\n",
       "      <th>count</th>\n",
       "      <th>calorie</th>\n",
       "      <th>deviceuuid</th>\n",
       "      <th>update_time</th>\n",
       "      <th>source_type</th>\n",
       "      <th>day_time</th>\n",
       "      <th>speed</th>\n",
       "      <th>pkg_name</th>\n",
       "      <th>distance</th>\n",
       "      <th>datauuid</th>\n",
       "      <th>create_time</th>\n",
       "    </tr>\n",
       "  </thead>\n",
       "  <tbody>\n",
       "    <tr>\n",
       "      <th>0</th>\n",
       "      <td>com.sec.android.app.shealth</td>\n",
       "      <td>00136c11-c381-4021-af1b-e7f2bd82ddf0.binning_d...</td>\n",
       "      <td>13218</td>\n",
       "      <td>557.81000</td>\n",
       "      <td>VfS0qUERdZ</td>\n",
       "      <td>2018-04-25 15:30:54.081</td>\n",
       "      <td>-2</td>\n",
       "      <td>1496016000000</td>\n",
       "      <td>1.588903</td>\n",
       "      <td>com.sec.android.app.shealth</td>\n",
       "      <td>10332.351</td>\n",
       "      <td>00136c11-c381-4021-af1b-e7f2bd82ddf0</td>\n",
       "      <td>2018-04-25 15:30:54.081</td>\n",
       "    </tr>\n",
       "    <tr>\n",
       "      <th>1</th>\n",
       "      <td>com.sec.android.app.shealth</td>\n",
       "      <td>00335ce7-7cfc-49da-b303-b90e4cac3723.binning_d...</td>\n",
       "      <td>8050</td>\n",
       "      <td>385.28998</td>\n",
       "      <td>T6rJlOV0ZG</td>\n",
       "      <td>2018-04-25 15:30:53.959</td>\n",
       "      <td>0</td>\n",
       "      <td>1498694400000</td>\n",
       "      <td>4.984097</td>\n",
       "      <td>com.sec.android.app.shealth</td>\n",
       "      <td>6747.390</td>\n",
       "      <td>00335ce7-7cfc-49da-b303-b90e4cac3723</td>\n",
       "      <td>2018-04-25 15:30:53.959</td>\n",
       "    </tr>\n",
       "    <tr>\n",
       "      <th>2</th>\n",
       "      <td>com.sec.android.app.shealth</td>\n",
       "      <td>004f0821-d204-4717-a9ee-949e94cc0133.binning_d...</td>\n",
       "      <td>2927</td>\n",
       "      <td>166.59000</td>\n",
       "      <td>T6rJlOV0ZG</td>\n",
       "      <td>2018-04-25 15:30:53.970</td>\n",
       "      <td>0</td>\n",
       "      <td>1501459200000</td>\n",
       "      <td>3.000000</td>\n",
       "      <td>com.sec.android.app.shealth</td>\n",
       "      <td>2583.480</td>\n",
       "      <td>004f0821-d204-4717-a9ee-949e94cc0133</td>\n",
       "      <td>2018-04-25 15:30:53.970</td>\n",
       "    </tr>\n",
       "    <tr>\n",
       "      <th>3</th>\n",
       "      <td>com.sec.android.app.shealth</td>\n",
       "      <td>005464c9-264b-47dc-afd7-f7df74755374.binning_d...</td>\n",
       "      <td>13124</td>\n",
       "      <td>749.80000</td>\n",
       "      <td>T6rJlOV0ZG</td>\n",
       "      <td>2018-04-25 15:30:53.992</td>\n",
       "      <td>0</td>\n",
       "      <td>1508630400000</td>\n",
       "      <td>5.083334</td>\n",
       "      <td>com.sec.android.app.shealth</td>\n",
       "      <td>11260.740</td>\n",
       "      <td>005464c9-264b-47dc-afd7-f7df74755374</td>\n",
       "      <td>2018-04-25 15:30:53.992</td>\n",
       "    </tr>\n",
       "    <tr>\n",
       "      <th>4</th>\n",
       "      <td>com.sec.android.app.shealth</td>\n",
       "      <td>00819650-c328-4f55-9779-c46c2892fb12.binning_d...</td>\n",
       "      <td>11816</td>\n",
       "      <td>510.00000</td>\n",
       "      <td>T6rJlOV0ZG</td>\n",
       "      <td>2018-04-25 15:30:53.903</td>\n",
       "      <td>0</td>\n",
       "      <td>1478217600000</td>\n",
       "      <td>3.750000</td>\n",
       "      <td>com.sec.android.app.shealth</td>\n",
       "      <td>9240.410</td>\n",
       "      <td>00819650-c328-4f55-9779-c46c2892fb12</td>\n",
       "      <td>2018-04-25 15:30:53.903</td>\n",
       "    </tr>\n",
       "  </tbody>\n",
       "</table>\n",
       "</div>"
      ],
      "text/plain": [
       "               source_pkg_name  \\\n",
       "0  com.sec.android.app.shealth   \n",
       "1  com.sec.android.app.shealth   \n",
       "2  com.sec.android.app.shealth   \n",
       "3  com.sec.android.app.shealth   \n",
       "4  com.sec.android.app.shealth   \n",
       "\n",
       "                                        binning_data  count    calorie  \\\n",
       "0  00136c11-c381-4021-af1b-e7f2bd82ddf0.binning_d...  13218  557.81000   \n",
       "1  00335ce7-7cfc-49da-b303-b90e4cac3723.binning_d...   8050  385.28998   \n",
       "2  004f0821-d204-4717-a9ee-949e94cc0133.binning_d...   2927  166.59000   \n",
       "3  005464c9-264b-47dc-afd7-f7df74755374.binning_d...  13124  749.80000   \n",
       "4  00819650-c328-4f55-9779-c46c2892fb12.binning_d...  11816  510.00000   \n",
       "\n",
       "   deviceuuid              update_time  source_type       day_time     speed  \\\n",
       "0  VfS0qUERdZ  2018-04-25 15:30:54.081           -2  1496016000000  1.588903   \n",
       "1  T6rJlOV0ZG  2018-04-25 15:30:53.959            0  1498694400000  4.984097   \n",
       "2  T6rJlOV0ZG  2018-04-25 15:30:53.970            0  1501459200000  3.000000   \n",
       "3  T6rJlOV0ZG  2018-04-25 15:30:53.992            0  1508630400000  5.083334   \n",
       "4  T6rJlOV0ZG  2018-04-25 15:30:53.903            0  1478217600000  3.750000   \n",
       "\n",
       "                      pkg_name   distance  \\\n",
       "0  com.sec.android.app.shealth  10332.351   \n",
       "1  com.sec.android.app.shealth   6747.390   \n",
       "2  com.sec.android.app.shealth   2583.480   \n",
       "3  com.sec.android.app.shealth  11260.740   \n",
       "4  com.sec.android.app.shealth   9240.410   \n",
       "\n",
       "                               datauuid              create_time  \n",
       "0  00136c11-c381-4021-af1b-e7f2bd82ddf0  2018-04-25 15:30:54.081  \n",
       "1  00335ce7-7cfc-49da-b303-b90e4cac3723  2018-04-25 15:30:53.959  \n",
       "2  004f0821-d204-4717-a9ee-949e94cc0133  2018-04-25 15:30:53.970  \n",
       "3  005464c9-264b-47dc-afd7-f7df74755374  2018-04-25 15:30:53.992  \n",
       "4  00819650-c328-4f55-9779-c46c2892fb12  2018-04-25 15:30:53.903  "
      ]
     },
     "execution_count": 2,
     "metadata": {},
     "output_type": "execute_result"
    }
   ],
   "source": [
    "steps = pd.read_csv('data/com.samsung.shealth.step_daily_trend.201812071026.csv', header=1 ) \n",
    "steps.head()"
   ]
  },
  {
   "cell_type": "markdown",
   "metadata": {
    "_uuid": "a16ea8a76bc7f519a12bdb8427c1c4dadbb5621f"
   },
   "source": [
    "The 'day_time' format looks like unix time (milliseconds since Epoch)  \n",
    "Let's convert it to something more useable"
   ]
  },
  {
   "cell_type": "code",
   "execution_count": 3,
   "metadata": {
    "_uuid": "af8536dde0dc3799789487c030873546cd022dc1"
   },
   "outputs": [
    {
     "data": {
      "text/html": [
       "<div>\n",
       "<style scoped>\n",
       "    .dataframe tbody tr th:only-of-type {\n",
       "        vertical-align: middle;\n",
       "    }\n",
       "\n",
       "    .dataframe tbody tr th {\n",
       "        vertical-align: top;\n",
       "    }\n",
       "\n",
       "    .dataframe thead th {\n",
       "        text-align: right;\n",
       "    }\n",
       "</style>\n",
       "<table border=\"1\" class=\"dataframe\">\n",
       "  <thead>\n",
       "    <tr style=\"text-align: right;\">\n",
       "      <th></th>\n",
       "      <th>source_pkg_name</th>\n",
       "      <th>binning_data</th>\n",
       "      <th>count</th>\n",
       "      <th>calorie</th>\n",
       "      <th>deviceuuid</th>\n",
       "      <th>update_time</th>\n",
       "      <th>source_type</th>\n",
       "      <th>day_time</th>\n",
       "      <th>speed</th>\n",
       "      <th>pkg_name</th>\n",
       "      <th>distance</th>\n",
       "      <th>datauuid</th>\n",
       "      <th>create_time</th>\n",
       "    </tr>\n",
       "  </thead>\n",
       "  <tbody>\n",
       "    <tr>\n",
       "      <th>0</th>\n",
       "      <td>com.sec.android.app.shealth</td>\n",
       "      <td>00136c11-c381-4021-af1b-e7f2bd82ddf0.binning_d...</td>\n",
       "      <td>13218</td>\n",
       "      <td>557.81000</td>\n",
       "      <td>VfS0qUERdZ</td>\n",
       "      <td>2018-04-25 15:30:54.081</td>\n",
       "      <td>-2</td>\n",
       "      <td>2017-05-29</td>\n",
       "      <td>1.588903</td>\n",
       "      <td>com.sec.android.app.shealth</td>\n",
       "      <td>10332.351</td>\n",
       "      <td>00136c11-c381-4021-af1b-e7f2bd82ddf0</td>\n",
       "      <td>2018-04-25 15:30:54.081</td>\n",
       "    </tr>\n",
       "    <tr>\n",
       "      <th>1</th>\n",
       "      <td>com.sec.android.app.shealth</td>\n",
       "      <td>00335ce7-7cfc-49da-b303-b90e4cac3723.binning_d...</td>\n",
       "      <td>8050</td>\n",
       "      <td>385.28998</td>\n",
       "      <td>T6rJlOV0ZG</td>\n",
       "      <td>2018-04-25 15:30:53.959</td>\n",
       "      <td>0</td>\n",
       "      <td>2017-06-29</td>\n",
       "      <td>4.984097</td>\n",
       "      <td>com.sec.android.app.shealth</td>\n",
       "      <td>6747.390</td>\n",
       "      <td>00335ce7-7cfc-49da-b303-b90e4cac3723</td>\n",
       "      <td>2018-04-25 15:30:53.959</td>\n",
       "    </tr>\n",
       "    <tr>\n",
       "      <th>2</th>\n",
       "      <td>com.sec.android.app.shealth</td>\n",
       "      <td>004f0821-d204-4717-a9ee-949e94cc0133.binning_d...</td>\n",
       "      <td>2927</td>\n",
       "      <td>166.59000</td>\n",
       "      <td>T6rJlOV0ZG</td>\n",
       "      <td>2018-04-25 15:30:53.970</td>\n",
       "      <td>0</td>\n",
       "      <td>2017-07-31</td>\n",
       "      <td>3.000000</td>\n",
       "      <td>com.sec.android.app.shealth</td>\n",
       "      <td>2583.480</td>\n",
       "      <td>004f0821-d204-4717-a9ee-949e94cc0133</td>\n",
       "      <td>2018-04-25 15:30:53.970</td>\n",
       "    </tr>\n",
       "    <tr>\n",
       "      <th>3</th>\n",
       "      <td>com.sec.android.app.shealth</td>\n",
       "      <td>005464c9-264b-47dc-afd7-f7df74755374.binning_d...</td>\n",
       "      <td>13124</td>\n",
       "      <td>749.80000</td>\n",
       "      <td>T6rJlOV0ZG</td>\n",
       "      <td>2018-04-25 15:30:53.992</td>\n",
       "      <td>0</td>\n",
       "      <td>2017-10-22</td>\n",
       "      <td>5.083334</td>\n",
       "      <td>com.sec.android.app.shealth</td>\n",
       "      <td>11260.740</td>\n",
       "      <td>005464c9-264b-47dc-afd7-f7df74755374</td>\n",
       "      <td>2018-04-25 15:30:53.992</td>\n",
       "    </tr>\n",
       "    <tr>\n",
       "      <th>4</th>\n",
       "      <td>com.sec.android.app.shealth</td>\n",
       "      <td>00819650-c328-4f55-9779-c46c2892fb12.binning_d...</td>\n",
       "      <td>11816</td>\n",
       "      <td>510.00000</td>\n",
       "      <td>T6rJlOV0ZG</td>\n",
       "      <td>2018-04-25 15:30:53.903</td>\n",
       "      <td>0</td>\n",
       "      <td>2016-11-04</td>\n",
       "      <td>3.750000</td>\n",
       "      <td>com.sec.android.app.shealth</td>\n",
       "      <td>9240.410</td>\n",
       "      <td>00819650-c328-4f55-9779-c46c2892fb12</td>\n",
       "      <td>2018-04-25 15:30:53.903</td>\n",
       "    </tr>\n",
       "  </tbody>\n",
       "</table>\n",
       "</div>"
      ],
      "text/plain": [
       "               source_pkg_name  \\\n",
       "0  com.sec.android.app.shealth   \n",
       "1  com.sec.android.app.shealth   \n",
       "2  com.sec.android.app.shealth   \n",
       "3  com.sec.android.app.shealth   \n",
       "4  com.sec.android.app.shealth   \n",
       "\n",
       "                                        binning_data  count    calorie  \\\n",
       "0  00136c11-c381-4021-af1b-e7f2bd82ddf0.binning_d...  13218  557.81000   \n",
       "1  00335ce7-7cfc-49da-b303-b90e4cac3723.binning_d...   8050  385.28998   \n",
       "2  004f0821-d204-4717-a9ee-949e94cc0133.binning_d...   2927  166.59000   \n",
       "3  005464c9-264b-47dc-afd7-f7df74755374.binning_d...  13124  749.80000   \n",
       "4  00819650-c328-4f55-9779-c46c2892fb12.binning_d...  11816  510.00000   \n",
       "\n",
       "   deviceuuid              update_time  source_type   day_time     speed  \\\n",
       "0  VfS0qUERdZ  2018-04-25 15:30:54.081           -2 2017-05-29  1.588903   \n",
       "1  T6rJlOV0ZG  2018-04-25 15:30:53.959            0 2017-06-29  4.984097   \n",
       "2  T6rJlOV0ZG  2018-04-25 15:30:53.970            0 2017-07-31  3.000000   \n",
       "3  T6rJlOV0ZG  2018-04-25 15:30:53.992            0 2017-10-22  5.083334   \n",
       "4  T6rJlOV0ZG  2018-04-25 15:30:53.903            0 2016-11-04  3.750000   \n",
       "\n",
       "                      pkg_name   distance  \\\n",
       "0  com.sec.android.app.shealth  10332.351   \n",
       "1  com.sec.android.app.shealth   6747.390   \n",
       "2  com.sec.android.app.shealth   2583.480   \n",
       "3  com.sec.android.app.shealth  11260.740   \n",
       "4  com.sec.android.app.shealth   9240.410   \n",
       "\n",
       "                               datauuid              create_time  \n",
       "0  00136c11-c381-4021-af1b-e7f2bd82ddf0  2018-04-25 15:30:54.081  \n",
       "1  00335ce7-7cfc-49da-b303-b90e4cac3723  2018-04-25 15:30:53.959  \n",
       "2  004f0821-d204-4717-a9ee-949e94cc0133  2018-04-25 15:30:53.970  \n",
       "3  005464c9-264b-47dc-afd7-f7df74755374  2018-04-25 15:30:53.992  \n",
       "4  00819650-c328-4f55-9779-c46c2892fb12  2018-04-25 15:30:53.903  "
      ]
     },
     "execution_count": 3,
     "metadata": {},
     "output_type": "execute_result"
    }
   ],
   "source": [
    "steps['day_time'] = pd.to_datetime(steps['day_time'], unit='ms')\n",
    "steps.head()"
   ]
  },
  {
   "cell_type": "markdown",
   "metadata": {
    "_uuid": "ce759f7ff6bd14d04d8894e27ec568edc0598f5e"
   },
   "source": [
    "There seems to be a duplicate for each entry,with source_type = -2 or -0.  \n",
    "Let's get just the 0s.  \n",
    "There's also more than one log per day, so let's sum those  \n",
    "Then let's drop the source_type, speed and calories"
   ]
  },
  {
   "cell_type": "code",
   "execution_count": 4,
   "metadata": {
    "_uuid": "61c1a6598397e254145ec5889c9e3acf94561e37"
   },
   "outputs": [
    {
     "data": {
      "text/html": [
       "<div>\n",
       "<style scoped>\n",
       "    .dataframe tbody tr th:only-of-type {\n",
       "        vertical-align: middle;\n",
       "    }\n",
       "\n",
       "    .dataframe tbody tr th {\n",
       "        vertical-align: top;\n",
       "    }\n",
       "\n",
       "    .dataframe thead th {\n",
       "        text-align: right;\n",
       "    }\n",
       "</style>\n",
       "<table border=\"1\" class=\"dataframe\">\n",
       "  <thead>\n",
       "    <tr style=\"text-align: right;\">\n",
       "      <th></th>\n",
       "      <th>day_time</th>\n",
       "      <th>count</th>\n",
       "      <th>distance</th>\n",
       "    </tr>\n",
       "  </thead>\n",
       "  <tbody>\n",
       "    <tr>\n",
       "      <th>0</th>\n",
       "      <td>2016-10-08</td>\n",
       "      <td>6148</td>\n",
       "      <td>4902.15</td>\n",
       "    </tr>\n",
       "    <tr>\n",
       "      <th>1</th>\n",
       "      <td>2016-10-09</td>\n",
       "      <td>4764</td>\n",
       "      <td>3655.46</td>\n",
       "    </tr>\n",
       "    <tr>\n",
       "      <th>2</th>\n",
       "      <td>2016-10-10</td>\n",
       "      <td>6286</td>\n",
       "      <td>4972.56</td>\n",
       "    </tr>\n",
       "    <tr>\n",
       "      <th>3</th>\n",
       "      <td>2016-10-11</td>\n",
       "      <td>7180</td>\n",
       "      <td>5608.64</td>\n",
       "    </tr>\n",
       "    <tr>\n",
       "      <th>4</th>\n",
       "      <td>2016-10-12</td>\n",
       "      <td>7581</td>\n",
       "      <td>5936.78</td>\n",
       "    </tr>\n",
       "  </tbody>\n",
       "</table>\n",
       "</div>"
      ],
      "text/plain": [
       "    day_time  count  distance\n",
       "0 2016-10-08   6148   4902.15\n",
       "1 2016-10-09   4764   3655.46\n",
       "2 2016-10-10   6286   4972.56\n",
       "3 2016-10-11   7180   5608.64\n",
       "4 2016-10-12   7581   5936.78"
      ]
     },
     "execution_count": 4,
     "metadata": {},
     "output_type": "execute_result"
    }
   ],
   "source": [
    "steps = steps[steps['source_type']==0].groupby('day_time').sum()\n",
    "steps.drop(['source_type','speed', 'calorie'], axis=1, inplace=True)\n",
    "steps.reset_index(inplace=True)\n",
    "steps.head()"
   ]
  },
  {
   "cell_type": "markdown",
   "metadata": {
    "_uuid": "dab242381c789fc7a5c31bc8dd7697f50d82b97e"
   },
   "source": [
    "We can create new columns for month,date,year extracted from the time stamp"
   ]
  },
  {
   "cell_type": "code",
   "execution_count": 5,
   "metadata": {
    "_uuid": "93e673395440e49e3656f0ab04db5509bb1497d5"
   },
   "outputs": [
    {
     "data": {
      "text/html": [
       "<div>\n",
       "<style scoped>\n",
       "    .dataframe tbody tr th:only-of-type {\n",
       "        vertical-align: middle;\n",
       "    }\n",
       "\n",
       "    .dataframe tbody tr th {\n",
       "        vertical-align: top;\n",
       "    }\n",
       "\n",
       "    .dataframe thead th {\n",
       "        text-align: right;\n",
       "    }\n",
       "</style>\n",
       "<table border=\"1\" class=\"dataframe\">\n",
       "  <thead>\n",
       "    <tr style=\"text-align: right;\">\n",
       "      <th></th>\n",
       "      <th>day_time</th>\n",
       "      <th>count</th>\n",
       "      <th>distance</th>\n",
       "      <th>Day</th>\n",
       "      <th>Year</th>\n",
       "      <th>Weekday</th>\n",
       "      <th>MonthName</th>\n",
       "      <th>Month</th>\n",
       "      <th>YearMonth</th>\n",
       "    </tr>\n",
       "  </thead>\n",
       "  <tbody>\n",
       "    <tr>\n",
       "      <th>0</th>\n",
       "      <td>2016-10-08</td>\n",
       "      <td>6148</td>\n",
       "      <td>4902.15</td>\n",
       "      <td>8</td>\n",
       "      <td>2016</td>\n",
       "      <td>Sat</td>\n",
       "      <td>Oct</td>\n",
       "      <td>10</td>\n",
       "      <td>10-2016</td>\n",
       "    </tr>\n",
       "    <tr>\n",
       "      <th>1</th>\n",
       "      <td>2016-10-09</td>\n",
       "      <td>4764</td>\n",
       "      <td>3655.46</td>\n",
       "      <td>9</td>\n",
       "      <td>2016</td>\n",
       "      <td>Sun</td>\n",
       "      <td>Oct</td>\n",
       "      <td>10</td>\n",
       "      <td>10-2016</td>\n",
       "    </tr>\n",
       "    <tr>\n",
       "      <th>2</th>\n",
       "      <td>2016-10-10</td>\n",
       "      <td>6286</td>\n",
       "      <td>4972.56</td>\n",
       "      <td>10</td>\n",
       "      <td>2016</td>\n",
       "      <td>Mon</td>\n",
       "      <td>Oct</td>\n",
       "      <td>10</td>\n",
       "      <td>10-2016</td>\n",
       "    </tr>\n",
       "    <tr>\n",
       "      <th>3</th>\n",
       "      <td>2016-10-11</td>\n",
       "      <td>7180</td>\n",
       "      <td>5608.64</td>\n",
       "      <td>11</td>\n",
       "      <td>2016</td>\n",
       "      <td>Tue</td>\n",
       "      <td>Oct</td>\n",
       "      <td>10</td>\n",
       "      <td>10-2016</td>\n",
       "    </tr>\n",
       "    <tr>\n",
       "      <th>4</th>\n",
       "      <td>2016-10-12</td>\n",
       "      <td>7581</td>\n",
       "      <td>5936.78</td>\n",
       "      <td>12</td>\n",
       "      <td>2016</td>\n",
       "      <td>Wed</td>\n",
       "      <td>Oct</td>\n",
       "      <td>10</td>\n",
       "      <td>10-2016</td>\n",
       "    </tr>\n",
       "  </tbody>\n",
       "</table>\n",
       "</div>"
      ],
      "text/plain": [
       "    day_time  count  distance  Day  Year Weekday MonthName  Month YearMonth\n",
       "0 2016-10-08   6148   4902.15    8  2016     Sat       Oct     10   10-2016\n",
       "1 2016-10-09   4764   3655.46    9  2016     Sun       Oct     10   10-2016\n",
       "2 2016-10-10   6286   4972.56   10  2016     Mon       Oct     10   10-2016\n",
       "3 2016-10-11   7180   5608.64   11  2016     Tue       Oct     10   10-2016\n",
       "4 2016-10-12   7581   5936.78   12  2016     Wed       Oct     10   10-2016"
      ]
     },
     "execution_count": 5,
     "metadata": {},
     "output_type": "execute_result"
    }
   ],
   "source": [
    "steps['Day'] = steps['day_time'].apply(lambda datestamp: datestamp.day)\n",
    "steps['Year'] = steps['day_time'].apply(lambda datestamp: datestamp.year)\n",
    "\n",
    "\n",
    "#Functions to get days of the week and months as strings instead of indexes \n",
    "#(0-6 and 0-12 respectively)\n",
    "\n",
    "def dayofweek(datestamp):\n",
    "    return ['Mon', 'Tue', 'Wed','Thur','Fri','Sat','Sun'][datestamp.weekday()]\n",
    "def monthname(datestamp):\n",
    "    return ['Jan', 'Feb', 'Mar','Apr','May','Jun','Jul','Aug','Sep','Oct','Nov','Dec'][datestamp.month-1]\n",
    "\n",
    "steps['Weekday'] = steps['day_time'].apply(lambda datestamp: dayofweek(datestamp)) \n",
    "steps['MonthName'] = steps['day_time'].apply(lambda datestamp: monthname(datestamp))\n",
    "\n",
    "#Keeping the month as an index to construct the yearmonth column below:\n",
    "\n",
    "steps['Month'] = steps['day_time'].apply(lambda datestamp: datestamp.month)\n",
    "\n",
    "#Function to get a combined 'YearMonth' column\n",
    "\n",
    "def yearmonth(cols):\n",
    "    month=cols[0]\n",
    "    year=cols[1]\n",
    "    return '{}-{}'.format(month, year)\n",
    "\n",
    "steps['YearMonth'] = steps[['Month', 'Year']].apply(lambda cols: yearmonth(cols), axis=1)\n",
    "\n",
    "steps.head()"
   ]
  },
  {
   "cell_type": "markdown",
   "metadata": {
    "_uuid": "1895ed866b861ea5fc5c84e987fb9113d22d0ad2"
   },
   "source": [
    "Now we can get rid of the day_time column since we have extracted all the information into other columns.  \n",
    "Our final DataFrame looks like :"
   ]
  },
  {
   "cell_type": "code",
   "execution_count": 6,
   "metadata": {
    "_uuid": "8960aa4dbdca863b4acdcce438d03e908703565a"
   },
   "outputs": [
    {
     "data": {
      "text/html": [
       "<div>\n",
       "<style scoped>\n",
       "    .dataframe tbody tr th:only-of-type {\n",
       "        vertical-align: middle;\n",
       "    }\n",
       "\n",
       "    .dataframe tbody tr th {\n",
       "        vertical-align: top;\n",
       "    }\n",
       "\n",
       "    .dataframe thead th {\n",
       "        text-align: right;\n",
       "    }\n",
       "</style>\n",
       "<table border=\"1\" class=\"dataframe\">\n",
       "  <thead>\n",
       "    <tr style=\"text-align: right;\">\n",
       "      <th></th>\n",
       "      <th>count</th>\n",
       "      <th>distance</th>\n",
       "      <th>Day</th>\n",
       "      <th>Year</th>\n",
       "      <th>Weekday</th>\n",
       "      <th>MonthName</th>\n",
       "      <th>Month</th>\n",
       "      <th>YearMonth</th>\n",
       "    </tr>\n",
       "  </thead>\n",
       "  <tbody>\n",
       "    <tr>\n",
       "      <th>0</th>\n",
       "      <td>6148</td>\n",
       "      <td>4902.15</td>\n",
       "      <td>8</td>\n",
       "      <td>2016</td>\n",
       "      <td>Sat</td>\n",
       "      <td>Oct</td>\n",
       "      <td>10</td>\n",
       "      <td>10-2016</td>\n",
       "    </tr>\n",
       "    <tr>\n",
       "      <th>1</th>\n",
       "      <td>4764</td>\n",
       "      <td>3655.46</td>\n",
       "      <td>9</td>\n",
       "      <td>2016</td>\n",
       "      <td>Sun</td>\n",
       "      <td>Oct</td>\n",
       "      <td>10</td>\n",
       "      <td>10-2016</td>\n",
       "    </tr>\n",
       "    <tr>\n",
       "      <th>2</th>\n",
       "      <td>6286</td>\n",
       "      <td>4972.56</td>\n",
       "      <td>10</td>\n",
       "      <td>2016</td>\n",
       "      <td>Mon</td>\n",
       "      <td>Oct</td>\n",
       "      <td>10</td>\n",
       "      <td>10-2016</td>\n",
       "    </tr>\n",
       "    <tr>\n",
       "      <th>3</th>\n",
       "      <td>7180</td>\n",
       "      <td>5608.64</td>\n",
       "      <td>11</td>\n",
       "      <td>2016</td>\n",
       "      <td>Tue</td>\n",
       "      <td>Oct</td>\n",
       "      <td>10</td>\n",
       "      <td>10-2016</td>\n",
       "    </tr>\n",
       "    <tr>\n",
       "      <th>4</th>\n",
       "      <td>7581</td>\n",
       "      <td>5936.78</td>\n",
       "      <td>12</td>\n",
       "      <td>2016</td>\n",
       "      <td>Wed</td>\n",
       "      <td>Oct</td>\n",
       "      <td>10</td>\n",
       "      <td>10-2016</td>\n",
       "    </tr>\n",
       "  </tbody>\n",
       "</table>\n",
       "</div>"
      ],
      "text/plain": [
       "   count  distance  Day  Year Weekday MonthName  Month YearMonth\n",
       "0   6148   4902.15    8  2016     Sat       Oct     10   10-2016\n",
       "1   4764   3655.46    9  2016     Sun       Oct     10   10-2016\n",
       "2   6286   4972.56   10  2016     Mon       Oct     10   10-2016\n",
       "3   7180   5608.64   11  2016     Tue       Oct     10   10-2016\n",
       "4   7581   5936.78   12  2016     Wed       Oct     10   10-2016"
      ]
     },
     "execution_count": 6,
     "metadata": {},
     "output_type": "execute_result"
    }
   ],
   "source": [
    "steps.drop('day_time', inplace=True, axis=1)\n",
    "\n",
    "steps.head()"
   ]
  },
  {
   "cell_type": "markdown",
   "metadata": {
    "_uuid": "70c69a9131ed9ed0c4bf3d1a7a32f6161197eead"
   },
   "source": [
    "## Analysis and Visualization"
   ]
  },
  {
   "cell_type": "markdown",
   "metadata": {
    "_uuid": "dd48feff574a18d852408cefb3bf2bd6a4fe8d84"
   },
   "source": [
    "Let's investigate the data:  \n",
    "  \n",
    "Firstly, how many years' worth of data do we have?"
   ]
  },
  {
   "cell_type": "code",
   "execution_count": 7,
   "metadata": {
    "_uuid": "8b135070e77df16a751b5553d119361b000f7fde"
   },
   "outputs": [
    {
     "name": "stdout",
     "output_type": "stream",
     "text": [
      "Number of years = 2.1397260273972605\n"
     ]
    }
   ],
   "source": [
    "print ('Number of years = {}'.format(steps['count'].count()/365))"
   ]
  },
  {
   "cell_type": "markdown",
   "metadata": {
    "_uuid": "85c4f55edffaf6f3345bbd068619c596f6aa5094"
   },
   "source": [
    "Just over 2 year's of data  \n",
    "What does the distribution of the data look like?"
   ]
  },
  {
   "cell_type": "code",
   "execution_count": 8,
   "metadata": {
    "_uuid": "ecf767f48347a8c67e655f5b7227929bcbcc4956"
   },
   "outputs": [
    {
     "data": {
      "text/plain": [
       "count      781.000000\n",
       "mean      8810.828425\n",
       "std       5587.723107\n",
       "min         12.000000\n",
       "25%       4910.000000\n",
       "50%       7761.000000\n",
       "75%      11418.000000\n",
       "max      38652.000000\n",
       "Name: count, dtype: float64"
      ]
     },
     "execution_count": 8,
     "metadata": {},
     "output_type": "execute_result"
    }
   ],
   "source": [
    "steps['count'].describe()"
   ]
  },
  {
   "cell_type": "markdown",
   "metadata": {
    "_uuid": "7c16d713403d3179e5fb09ced958dc2b85c99100"
   },
   "source": [
    "So my all time average is 8810 steps, with a standard deviation of 5587.  \n",
    "On half of all days I walked more than 7761 steps.  \n",
    "\n",
    "My record was 38652 steps in one day.   \n",
    "If I recall correctly, I was hiking in Peru!  \n",
    "\n",
    "When was that again? :  "
   ]
  },
  {
   "cell_type": "code",
   "execution_count": 9,
   "metadata": {
    "_uuid": "0d6623e8e4b04bb6d8812a4f867e853396c39a0b"
   },
   "outputs": [
    {
     "data": {
      "text/html": [
       "<div>\n",
       "<style scoped>\n",
       "    .dataframe tbody tr th:only-of-type {\n",
       "        vertical-align: middle;\n",
       "    }\n",
       "\n",
       "    .dataframe tbody tr th {\n",
       "        vertical-align: top;\n",
       "    }\n",
       "\n",
       "    .dataframe thead th {\n",
       "        text-align: right;\n",
       "    }\n",
       "</style>\n",
       "<table border=\"1\" class=\"dataframe\">\n",
       "  <thead>\n",
       "    <tr style=\"text-align: right;\">\n",
       "      <th></th>\n",
       "      <th>Day</th>\n",
       "      <th>MonthName</th>\n",
       "      <th>Year</th>\n",
       "    </tr>\n",
       "  </thead>\n",
       "  <tbody>\n",
       "    <tr>\n",
       "      <th>277</th>\n",
       "      <td>13</td>\n",
       "      <td>Jul</td>\n",
       "      <td>2017</td>\n",
       "    </tr>\n",
       "  </tbody>\n",
       "</table>\n",
       "</div>"
      ],
      "text/plain": [
       "     Day MonthName  Year\n",
       "277   13       Jul  2017"
      ]
     },
     "execution_count": 9,
     "metadata": {},
     "output_type": "execute_result"
    }
   ],
   "source": [
    "steps[steps['count']==steps['count'].max()][['Day','MonthName', 'Year']]"
   ]
  },
  {
   "cell_type": "markdown",
   "metadata": {
    "_uuid": "0af47a1e34725377bf47ef861ef09e9d161a2db7"
   },
   "source": [
    "A look at the distribution of the number of daily steps"
   ]
  },
  {
   "cell_type": "code",
   "execution_count": 10,
   "metadata": {
    "_uuid": "e7a506f5d3444d287315b23f639c81e3a5e704e1"
   },
   "outputs": [
    {
     "data": {
      "text/plain": [
       "[(0, 38652)]"
      ]
     },
     "execution_count": 10,
     "metadata": {},
     "output_type": "execute_result"
    },
    {
     "data": {
      "image/png": "[encoded data removed]",
      "text/plain": [
       "<Figure size 432x288 with 1 Axes>"
      ]
     },
     "metadata": {
      "needs_background": "light"
     },
     "output_type": "display_data"
    }
   ],
   "source": [
    "sns.distplot(steps['count'], bins=25).set(xlim=(0,steps['count'].max()))  "
   ]
  },
  {
   "cell_type": "markdown",
   "metadata": {
    "_uuid": "6cacc3b2ec0caf7bae5d90e2187ce9bd05f42398"
   },
   "source": [
    "Was I more active in 2017 or 2018?"
   ]
  },
  {
   "cell_type": "code",
   "execution_count": 11,
   "metadata": {
    "_uuid": "925f577317fae851d4d7f08a2bb8e5fd6940b7b3"
   },
   "outputs": [
    {
     "data": {
      "text/plain": [
       "<matplotlib.axes._subplots.AxesSubplot at 0x269b6a35be0>"
      ]
     },
     "execution_count": 11,
     "metadata": {},
     "output_type": "execute_result"
    },
    {
     "data": {
      "image/png": "[encoded data removed]",
      "text/plain": [
       "<Figure size 1440x360 with 1 Axes>"
      ]
     },
     "metadata": {
      "needs_background": "light"
     },
     "output_type": "display_data"
    }
   ],
   "source": [
    "plt.figure(figsize=(20,5))\n",
    "plt.tight_layout()\n",
    "plt.title('Average steps per day in 2017 and 2018')\n",
    "sns.barplot(x='Year', y=steps['count'], data=steps[steps['Year']>2016])"
   ]
  },
  {
   "cell_type": "markdown",
   "metadata": {
    "_uuid": "a3d865c6b49de544763037c8a958f6dc2dbcd9b4"
   },
   "source": [
    "2017 wins!  \n",
    "Let's break that down by month. "
   ]
  },
  {
   "cell_type": "code",
   "execution_count": 12,
   "metadata": {
    "_uuid": "7249a7a09c7cf6d3b1f38de977d63d9f8a9e2caf"
   },
   "outputs": [
    {
     "data": {
      "text/plain": [
       "<matplotlib.axes._subplots.AxesSubplot at 0x269b6cdc160>"
      ]
     },
     "execution_count": 12,
     "metadata": {},
     "output_type": "execute_result"
    },
    {
     "data": {
      "image/png": "[encoded data removed]",
      "text/plain": [
       "<Figure size 1440x360 with 1 Axes>"
      ]
     },
     "metadata": {
      "needs_background": "light"
     },
     "output_type": "display_data"
    }
   ],
   "source": [
    "plt.figure(figsize=(20,5))\n",
    "plt.tight_layout()\n",
    "plt.title('Average steps per day for each month, 2017 vs 2018')\n",
    "sns.barplot(x='MonthName', y='count', data=steps[steps['Year']>2016], hue='Year', order = ['Jan', 'Feb', 'Mar','Apr','May','Jun','Jul','Aug','Sep','Oct','Nov','Dec'] )"
   ]
  },
  {
   "cell_type": "markdown",
   "metadata": {
    "_uuid": "e998320090d15c0345c11390863f27a9cace29ac"
   },
   "source": [
    "Looks like i'm often walking a lot while on holiday!  \n",
    "And I went on holiday in July in 2017 vs August in 2018  \n",
    "\n",
    "Am I more active at the start or the end of a typical month? (Average over years)"
   ]
  },
  {
   "cell_type": "code",
   "execution_count": 13,
   "metadata": {
    "_uuid": "cd5870c60ffa998da7689dfdc5df3ce9ab6ea081"
   },
   "outputs": [
    {
     "data": {
      "text/plain": [
       "<matplotlib.axes._subplots.AxesSubplot at 0x269b6f34e10>"
      ]
     },
     "execution_count": 13,
     "metadata": {},
     "output_type": "execute_result"
    },
    {
     "data": {
      "image/png": "[encoded data removed]",
      "text/plain": [
       "<Figure size 1440x360 with 1 Axes>"
      ]
     },
     "metadata": {
      "needs_background": "light"
     },
     "output_type": "display_data"
    }
   ],
   "source": [
    "plt.figure(figsize=(20,5))\n",
    "plt.tight_layout()\n",
    "plt.title('Average steps per day over a typical month')\n",
    "sns.barplot(x='Day', y='count', data=steps)"
   ]
  },
  {
   "cell_type": "markdown",
   "metadata": {
    "_uuid": "1dc9e8f30f2cd7a727d791b54fe0524fcee44ef5"
   },
   "source": [
    "Doesn't seem to be a factor.  \n",
    "\n",
    "What about activity through a typical week?  "
   ]
  },
  {
   "cell_type": "code",
   "execution_count": 14,
   "metadata": {
    "_uuid": "28767a8a65b64fbe40131bdbcf99d307c71aae82"
   },
   "outputs": [
    {
     "data": {
      "text/plain": [
       "<matplotlib.axes._subplots.AxesSubplot at 0x269b71f2a20>"
      ]
     },
     "execution_count": 14,
     "metadata": {},
     "output_type": "execute_result"
    },
    {
     "data": {
      "image/png": "[encoded data removed]",
      "text/plain": [
       "<Figure size 1440x360 with 1 Axes>"
      ]
     },
     "metadata": {
      "needs_background": "light"
     },
     "output_type": "display_data"
    }
   ],
   "source": [
    "plt.figure(figsize=(20,5))\n",
    "plt.tight_layout()\n",
    "plt.title('Average steps per day over a typical week')\n",
    "sns.barplot(x='Weekday', y='count', data=steps, order = ['Mon', 'Tue', 'Wed','Thur','Fri','Sat','Sun'], palette = 'deep')"
   ]
  },
  {
   "cell_type": "markdown",
   "metadata": {
    "_uuid": "284f1275c0cd14b7dc3dcf13eefa266de6722091"
   },
   "source": [
    "Momentum building towards the weekend with a lazy Sunday!  \n",
    "\n",
    "Let's look at the year 2017 in detail:"
   ]
  },
  {
   "cell_type": "code",
   "execution_count": 15,
   "metadata": {
    "_uuid": "606f5f38c3ed65d28fdb63a5c45a2637d28593ac"
   },
   "outputs": [
    {
     "data": {
      "text/plain": [
       "<matplotlib.axes._subplots.AxesSubplot at 0x269b7212048>"
      ]
     },
     "execution_count": 15,
     "metadata": {},
     "output_type": "execute_result"
    },
    {
     "data": {
      "image/png": "[encoded data removed]",
      "text/plain": [
       "<Figure size 1440x360 with 2 Axes>"
      ]
     },
     "metadata": {
      "needs_background": "light"
     },
     "output_type": "display_data"
    }
   ],
   "source": [
    "piv = steps[steps['Year']==2017].pivot_table(index='Month',columns='Day', values='count').fillna(0)\n",
    "plt.figure(figsize=(20,5))\n",
    "plt.title('Steps in 2017')\n",
    "sns.heatmap(piv, cmap='viridis')"
   ]
  },
  {
   "cell_type": "markdown",
   "metadata": {
    "_uuid": "fec65bba2dc672dacb012d85ab73c7d27d41b430"
   },
   "source": [
    "If you look closely you can spot the holiday periods and weekends.  \n",
    "\n",
    "What about the total distance walked and total steps per year?"
   ]
  },
  {
   "cell_type": "code",
   "execution_count": 16,
   "metadata": {
    "_uuid": "01305e6629acb9aa3e8952ea7be1601fb24e01b4"
   },
   "outputs": [
    {
     "data": {
      "text/plain": [
       "<matplotlib.axes._subplots.AxesSubplot at 0x269b6b71208>"
      ]
     },
     "execution_count": 16,
     "metadata": {},
     "output_type": "execute_result"
    },
    {
     "data": {
      "image/png": "[encoded data removed]",
      "text/plain": [
       "<Figure size 720x360 with 1 Axes>"
      ]
     },
     "metadata": {
      "needs_background": "light"
     },
     "output_type": "display_data"
    }
   ],
   "source": [
    "plt.figure(figsize=(10,5))\n",
    "plt.title('Total Distance (km)')\n",
    "sns.barplot(x='Year', y=steps['distance']/1000, data=steps[steps['Year']>2016], estimator= sum)"
   ]
  },
  {
   "cell_type": "code",
   "execution_count": 17,
   "metadata": {
    "_uuid": "f04bba8eaf56b5deff04d2b7e1b53adf6bc21715"
   },
   "outputs": [
    {
     "data": {
      "text/plain": [
       "<matplotlib.axes._subplots.AxesSubplot at 0x269b741cc88>"
      ]
     },
     "execution_count": 17,
     "metadata": {},
     "output_type": "execute_result"
    },
    {
     "data": {
      "image/png": "[encoded data removed]",
      "text/plain": [
       "<Figure size 720x360 with 1 Axes>"
      ]
     },
     "metadata": {
      "needs_background": "light"
     },
     "output_type": "display_data"
    }
   ],
   "source": [
    "plt.figure(figsize=(10,5))\n",
    "plt.title('Total Steps (in millions)')\n",
    "sns.barplot(x='Year', y=steps['count']/1000000, data=steps[steps['Year']>2016], estimator= sum)"
   ]
  },
  {
   "cell_type": "markdown",
   "metadata": {
    "_uuid": "b921be72120d00e7b34aa86c70acaeda4f73368d"
   },
   "source": [
    "Speaking of distance walked, how far exactly is 1 step?"
   ]
  },
  {
   "cell_type": "code",
   "execution_count": 18,
   "metadata": {
    "_uuid": "54b1ad351468ab372f81b0eed19f59d0ba365058"
   },
   "outputs": [
    {
     "data": {
      "text/plain": [
       "<matplotlib.axes._subplots.AxesSubplot at 0x269b6b707f0>"
      ]
     },
     "execution_count": 18,
     "metadata": {},
     "output_type": "execute_result"
    },
    {
     "data": {
      "image/png": "[encoded data removed]",
      "text/plain": [
       "<Figure size 432x288 with 1 Axes>"
      ]
     },
     "metadata": {
      "needs_background": "light"
     },
     "output_type": "display_data"
    }
   ],
   "source": [
    "sns.scatterplot(x='count', y='distance', data=steps)"
   ]
  },
  {
   "cell_type": "markdown",
   "metadata": {
    "_uuid": "ffa7e82022f548001b6fc17d4a7ca81059535322"
   },
   "source": [
    "Let's get the correlation coefficient (i.e. the distance per step : step-size)"
   ]
  },
  {
   "cell_type": "code",
   "execution_count": 19,
   "metadata": {
    "_uuid": "9bb1461b874db85d51fcbecb8cab5b936649301f"
   },
   "outputs": [
    {
     "name": "stdout",
     "output_type": "stream",
     "text": [
      "Average step size = 76.42 cm\n"
     ]
    }
   ],
   "source": [
    "from sklearn.linear_model import LinearRegression  #For step size regression fit\n",
    "\n",
    "lm= LinearRegression()\n",
    "x=steps['count'].values.reshape(-1, 1)\n",
    "y=steps['distance'].values.reshape(-1, 1)\n",
    "lm.fit(x,y)\n",
    "print('Average step size = {:.2f} cm'.format(lm.coef_[0][0]*100))"
   ]
  },
  {
   "cell_type": "markdown",
   "metadata": {
    "_uuid": "a3dad9115a0bc6da10d5b4dceaf224d464c70b18"
   },
   "source": [
    "How does this compare to a simple average, taken as total distance / total steps?  "
   ]
  },
  {
   "cell_type": "code",
   "execution_count": 20,
   "metadata": {
    "_uuid": "50a255706dc7cd2befcb4a06548d96df65de2c5e"
   },
   "outputs": [
    {
     "name": "stdout",
     "output_type": "stream",
     "text": [
      "Average step size = 0.80 cm\n"
     ]
    }
   ],
   "source": [
    "total_distance = steps['distance'].sum()\n",
    "total_steps =  steps['count'].sum()\n",
    "average_step = total_distance/total_steps\n",
    "print('Average step size = {:.2f} cm'.format(average_step))"
   ]
  },
  {
   "cell_type": "markdown",
   "metadata": {
    "_uuid": "b772e1d324d4081ea87de763b3e863e36c278a94"
   },
   "source": [
    "This is different to the value as calculated via regression. Not totally sure why...  \n",
    "\n",
    "Let's investigate \"lazy days\" when my steps are less than some threshold"
   ]
  },
  {
   "cell_type": "code",
   "execution_count": 21,
   "metadata": {
    "_uuid": "5110d643f21fa4f70207e08aaa69d3dd7ea62c5f"
   },
   "outputs": [
    {
     "name": "stdout",
     "output_type": "stream",
     "text": [
      "19 days where steps < 1000\n"
     ]
    }
   ],
   "source": [
    "thresh=1000\n",
    "lazydays= steps[steps['count']<thresh]['count'].count()\n",
    "print('{} days where steps < {}'.format(lazydays,thresh))"
   ]
  },
  {
   "cell_type": "markdown",
   "metadata": {
    "_uuid": "e68aa81874928f387a6ba42ffa0cbb96b2b1035a"
   },
   "source": [
    "We could make a cumulative steps function which returns the number of days with at least 'n' steps  \n",
    "e.g. My phone has a 'target reached!' notification when I go through 10,000 steps  \n",
    "which I have received at_least(10000) times :"
   ]
  },
  {
   "cell_type": "code",
   "execution_count": 22,
   "metadata": {
    "_uuid": "5cdf08f617e99967b4968b85a83d465637219c25"
   },
   "outputs": [
    {
     "name": "stdout",
     "output_type": "stream",
     "text": [
      "269\n"
     ]
    }
   ],
   "source": [
    "def at_least(n):\n",
    "    return sum(steps['count']>n)\n",
    "\n",
    "print (at_least(10000))"
   ]
  },
  {
   "cell_type": "markdown",
   "metadata": {
    "_uuid": "b80d3268ef718b23e60f577a9e8368b3dc9b130f"
   },
   "source": [
    "Let's plot that function for every value of steps recorded (laziest day to busiest day)"
   ]
  },
  {
   "cell_type": "code",
   "execution_count": 23,
   "metadata": {
    "_uuid": "bc2c7a83b0ab7c943882eed81db97c2b3fff83ee"
   },
   "outputs": [
    {
     "name": "stdout",
     "output_type": "stream",
     "text": [
      "Laziest day = 12\n",
      "Busiest day = 38652\n"
     ]
    },
    {
     "data": {
      "text/plain": [
       "<matplotlib.axes._subplots.AxesSubplot at 0x269b8a34a90>"
      ]
     },
     "execution_count": 23,
     "metadata": {},
     "output_type": "execute_result"
    },
    {
     "data": {
      "image/png": "[encoded data removed]",
      "text/plain": [
       "<Figure size 432x288 with 1 Axes>"
      ]
     },
     "metadata": {
      "needs_background": "light"
     },
     "output_type": "display_data"
    }
   ],
   "source": [
    "print('Laziest day = {}'.format(steps['count'].min()))\n",
    "print('Busiest day = {}'.format(steps['count'].max()))\n",
    "sns.lineplot(x= steps['count'], y= steps['count'].apply(lambda values : at_least(values)))\n"
   ]
  },
  {
   "cell_type": "markdown",
   "metadata": {
    "_uuid": "c51ee691576f7f4922ca367e93943a74f2892ab4"
   },
   "source": [
    "Let's build a linear regression model to predict how many steps are walked on a given day. This is just for fun - there almost certainly isn't enough data to produce a predictive model"
   ]
  },
  {
   "cell_type": "code",
   "execution_count": 24,
   "metadata": {},
   "outputs": [],
   "source": [
    "model_data = steps.copy(deep=True)  #We're about to encode our categorical variables so make a deep copy here."
   ]
  },
  {
   "cell_type": "code",
   "execution_count": 25,
   "metadata": {},
   "outputs": [
    {
     "data": {
      "text/html": [
       "<div>\n",
       "<style scoped>\n",
       "    .dataframe tbody tr th:only-of-type {\n",
       "        vertical-align: middle;\n",
       "    }\n",
       "\n",
       "    .dataframe tbody tr th {\n",
       "        vertical-align: top;\n",
       "    }\n",
       "\n",
       "    .dataframe thead th {\n",
       "        text-align: right;\n",
       "    }\n",
       "</style>\n",
       "<table border=\"1\" class=\"dataframe\">\n",
       "  <thead>\n",
       "    <tr style=\"text-align: right;\">\n",
       "      <th></th>\n",
       "      <th>count</th>\n",
       "      <th>Weekday</th>\n",
       "      <th>Month</th>\n",
       "    </tr>\n",
       "  </thead>\n",
       "  <tbody>\n",
       "    <tr>\n",
       "      <th>0</th>\n",
       "      <td>6148</td>\n",
       "      <td>2</td>\n",
       "      <td>10</td>\n",
       "    </tr>\n",
       "    <tr>\n",
       "      <th>1</th>\n",
       "      <td>4764</td>\n",
       "      <td>3</td>\n",
       "      <td>10</td>\n",
       "    </tr>\n",
       "    <tr>\n",
       "      <th>2</th>\n",
       "      <td>6286</td>\n",
       "      <td>1</td>\n",
       "      <td>10</td>\n",
       "    </tr>\n",
       "    <tr>\n",
       "      <th>3</th>\n",
       "      <td>7180</td>\n",
       "      <td>5</td>\n",
       "      <td>10</td>\n",
       "    </tr>\n",
       "    <tr>\n",
       "      <th>4</th>\n",
       "      <td>7581</td>\n",
       "      <td>6</td>\n",
       "      <td>10</td>\n",
       "    </tr>\n",
       "  </tbody>\n",
       "</table>\n",
       "</div>"
      ],
      "text/plain": [
       "   count  Weekday  Month\n",
       "0   6148        2     10\n",
       "1   4764        3     10\n",
       "2   6286        1     10\n",
       "3   7180        5     10\n",
       "4   7581        6     10"
      ]
     },
     "execution_count": 25,
     "metadata": {},
     "output_type": "execute_result"
    }
   ],
   "source": [
    "from sklearn import preprocessing\n",
    "\n",
    "model_data.drop(['distance', 'Year', 'MonthName', 'YearMonth', 'Day'], axis=1, inplace=True)\n",
    "\n",
    "#Label encode\n",
    "le = preprocessing.LabelEncoder()\n",
    "model_data['Weekday'] = model_data[['Weekday']].apply(le.fit_transform)\n",
    "\n",
    "model_data.head()  # A final look at the data to be fed into the algorithm"
   ]
  },
  {
   "cell_type": "code",
   "execution_count": 26,
   "metadata": {},
   "outputs": [
    {
     "name": "stdout",
     "output_type": "stream",
     "text": [
      "Run 0, RMSE: 5708.007485455401\n",
      "Run 1, RMSE: 6227.780012991272\n",
      "Run 2, RMSE: 4801.087677769184\n",
      "Run 3, RMSE: 6155.923158542197\n",
      "Run 4, RMSE: 6319.989706352434\n",
      "Run 5, RMSE: 5439.3047287276295\n",
      "Run 6, RMSE: 5564.162759736732\n",
      "Run 7, RMSE: 4744.61625712722\n",
      "Run 8, RMSE: 5105.886549658305\n",
      "Run 9, RMSE: 5260.4388432945625\n"
     ]
    }
   ],
   "source": [
    "from sklearn.model_selection import train_test_split        \n",
    "X = model_data.drop('count', axis=1)\n",
    "y = model_data['count']\n",
    "\n",
    "for i in range(10):\n",
    "    X_train, X_test, y_train, y_test = train_test_split(X, y, test_size=0.2)\n",
    "\n",
    "    from sklearn.linear_model import LinearRegression\n",
    "\n",
    "    model = LinearRegression() \n",
    "\n",
    "    model.fit(X_train, y_train)\n",
    "    predictions = model.predict(X_test)\n",
    "\n",
    "    from sklearn import metrics\n",
    "\n",
    "    print(f'Run {i}, RMSE: {np.sqrt(metrics.mean_squared_error(y_test, predictions))}')"
   ]
  },
  {
   "cell_type": "code",
   "execution_count": 28,
   "metadata": {},
   "outputs": [
    {
     "data": {
      "text/plain": [
       "5587.723106657859"
      ]
     },
     "execution_count": 28,
     "metadata": {},
     "output_type": "execute_result"
    }
   ],
   "source": [
    "steps['count'].std()"
   ]
  },
  {
   "cell_type": "markdown",
   "metadata": {},
   "source": [
    "Our RMSE is no better than the standard deviation of the step count on average, so we'd be just as well off predicting the mean"
   ]
  }
 ],
 "metadata": {
  "kernelspec": {
   "display_name": "Python 3",
   "language": "python",
   "name": "python3"
  },
  "language_info": {
   "codemirror_mode": {
    "name": "ipython",
    "version": 3
   },
   "file_extension": ".py",
   "mimetype": "text/x-python",
   "name": "python",
   "nbconvert_exporter": "python",
   "pygments_lexer": "ipython3",
   "version": "3.7.0"
  }
 },
 "nbformat": 4,
 "nbformat_minor": 2
}
